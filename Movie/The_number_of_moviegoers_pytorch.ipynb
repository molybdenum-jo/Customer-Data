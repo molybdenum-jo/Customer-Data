{
  "nbformat": 4,
  "nbformat_minor": 0,
  "metadata": {
    "colab": {
      "provenance": [],
      "authorship_tag": "ABX9TyNfoST9JiDSq4zs+Ut1Pf8N",
      "include_colab_link": true
    },
    "kernelspec": {
      "name": "python3",
      "display_name": "Python 3"
    },
    "language_info": {
      "name": "python"
    }
  },
  "cells": [
    {
      "cell_type": "markdown",
      "metadata": {
        "id": "view-in-github",
        "colab_type": "text"
      },
      "source": [
        "<a href=\"https://colab.research.google.com/github/molybdenum-jo/Customer-Data/blob/main/The_number_of_moviegoers_pytorch.ipynb\" target=\"_parent\"><img src=\"https://colab.research.google.com/assets/colab-badge.svg\" alt=\"Open In Colab\"/></a>"
      ]
    },
    {
      "cell_type": "markdown",
      "source": [
        "# Dacon_영화 관객수 예측 경진대회\n",
        "https://dacon.io/competitions/official/235536/data"
      ],
      "metadata": {
        "id": "X7NSk6f1NcRw"
      }
    },
    {
      "cell_type": "code",
      "execution_count": 1,
      "metadata": {
        "colab": {
          "base_uri": "https://localhost:8080/"
        },
        "id": "rXWeDqIINUpd",
        "outputId": "bfb3c481-2f60-4651-8042-4fb46832708b"
      },
      "outputs": [
        {
          "output_type": "stream",
          "name": "stdout",
          "text": [
            " \u001b[0m\u001b[01;34msample_data\u001b[0m/  '영화 관객수.zip'\n"
          ]
        }
      ],
      "source": [
        "%ls"
      ]
    },
    {
      "cell_type": "code",
      "source": [
        "!unzip '영화 관객수.zip'"
      ],
      "metadata": {
        "colab": {
          "base_uri": "https://localhost:8080/"
        },
        "id": "68kw9V-YNdsh",
        "outputId": "196429df-d8aa-413d-a13d-308ea2adc656"
      },
      "execution_count": 2,
      "outputs": [
        {
          "output_type": "stream",
          "name": "stdout",
          "text": [
            "Archive:  영화 관객수.zip\n",
            "  inflating: submission.csv          \n",
            "  inflating: movies_train.csv        \n",
            "  inflating: movies_test.csv         \n"
          ]
        }
      ]
    },
    {
      "cell_type": "markdown",
      "source": [
        "# 라이브러리로드\n"
      ],
      "metadata": {
        "id": "QS5EkVhvNl1j"
      }
    },
    {
      "cell_type": "code",
      "source": [
        "import pandas as pd\n",
        "import numpy as np\n",
        "import seaborn as sns\n",
        "import matplotlib.pyplot as plt"
      ],
      "metadata": {
        "id": "gLPyKwm5Noo5"
      },
      "execution_count": 3,
      "outputs": []
    },
    {
      "cell_type": "markdown",
      "source": [
        "# 데이터 로드"
      ],
      "metadata": {
        "id": "M2clmsm6NvBj"
      }
    },
    {
      "cell_type": "code",
      "source": [
        "base_path = \".\"\n",
        "train = pd.read_csv(f'{base_path}/movies_train.csv', index_col=\"title\")\n",
        "test = pd.read_csv(f'{base_path}/movies_test.csv', index_col=\"title\")\n",
        "submission = pd.read_csv(f'{base_path}/submission.csv', index_col=\"title\")"
      ],
      "metadata": {
        "id": "BlszUZe2NwgI"
      },
      "execution_count": 4,
      "outputs": []
    },
    {
      "cell_type": "code",
      "source": [
        "categorical_feature = train.select_dtypes(include=\"object\").columns\n",
        "train[categorical_feature] = train[categorical_feature].astype(\"category\")\n",
        "test[categorical_feature] = test[categorical_feature].astype(\"category\")"
      ],
      "metadata": {
        "id": "0Ud7nKmeNyVI"
      },
      "execution_count": 5,
      "outputs": []
    },
    {
      "cell_type": "code",
      "source": [
        "train= train.fillna(0)\n",
        "test = test.fillna(0)"
      ],
      "metadata": {
        "id": "xBVmUE0YEQFF"
      },
      "execution_count": 6,
      "outputs": []
    },
    {
      "cell_type": "code",
      "source": [
        "train"
      ],
      "metadata": {
        "colab": {
          "base_uri": "https://localhost:8080/",
          "height": 551
        },
        "id": "NTTOhRGxEWtF",
        "outputId": "f941d113-2758-43d3-db19-2c47762d2cf4"
      },
      "execution_count": 7,
      "outputs": [
        {
          "output_type": "execute_result",
          "data": {
            "text/plain": [
              "            distributor genre release_time  time screening_rat director  \\\n",
              "title                                                                     \n",
              "개들의 전쟁         롯데엔터테인먼트    액션   2012-11-22    96      청소년 관람불가      조병옥   \n",
              "내부자들             (주)쇼박스   느와르   2015-11-19   130      청소년 관람불가      우민호   \n",
              "은밀하게 위대하게        (주)쇼박스    액션   2013-06-05   123       15세 관람가      장철수   \n",
              "나는 공무원이다         (주)NEW   코미디   2012-07-12   101        전체 관람가      구자홍   \n",
              "불량남녀       쇼박스(주)미디어플렉스   코미디   2010-11-04   108       15세 관람가      신근호   \n",
              "...                 ...   ...          ...   ...           ...      ...   \n",
              "해무               (주)NEW   드라마   2014-08-13   111      청소년 관람불가      심성보   \n",
              "파파로티             (주)쇼박스   드라마   2013-03-14   127       15세 관람가      윤종찬   \n",
              "살인의 강         (주)마운틴픽쳐스    공포   2010-09-30    99      청소년 관람불가      김대현   \n",
              "악의 연대기        CJ 엔터테인먼트   느와르   2015-05-14   102       15세 관람가      백운학   \n",
              "베를린           CJ 엔터테인먼트    액션   2013-01-30   120       15세 관람가      류승완   \n",
              "\n",
              "           dir_prev_bfnum  dir_prev_num  num_staff  num_actor  box_off_num  \n",
              "title                                                                       \n",
              "개들의 전쟁               0.00             0         91          2        23398  \n",
              "내부자들           1161602.50             2        387          3      7072501  \n",
              "은밀하게 위대하게       220775.25             4        343          4      6959083  \n",
              "나는 공무원이다         23894.00             2         20          6       217866  \n",
              "불량남녀                 1.00             1        251          2       483387  \n",
              "...                   ...           ...        ...        ...          ...  \n",
              "해무                3833.00             1        510          7      1475091  \n",
              "파파로티            496061.00             1        286          6      1716438  \n",
              "살인의 강                0.00             0        123          4         2475  \n",
              "악의 연대기               0.00             0        431          4      2192525  \n",
              "베를린                  0.00             0        363          5      7166532  \n",
              "\n",
              "[600 rows x 11 columns]"
            ],
            "text/html": [
              "\n",
              "  <div id=\"df-b6bb22d5-622f-45f7-a6ce-ea55402ecfde\">\n",
              "    <div class=\"colab-df-container\">\n",
              "      <div>\n",
              "<style scoped>\n",
              "    .dataframe tbody tr th:only-of-type {\n",
              "        vertical-align: middle;\n",
              "    }\n",
              "\n",
              "    .dataframe tbody tr th {\n",
              "        vertical-align: top;\n",
              "    }\n",
              "\n",
              "    .dataframe thead th {\n",
              "        text-align: right;\n",
              "    }\n",
              "</style>\n",
              "<table border=\"1\" class=\"dataframe\">\n",
              "  <thead>\n",
              "    <tr style=\"text-align: right;\">\n",
              "      <th></th>\n",
              "      <th>distributor</th>\n",
              "      <th>genre</th>\n",
              "      <th>release_time</th>\n",
              "      <th>time</th>\n",
              "      <th>screening_rat</th>\n",
              "      <th>director</th>\n",
              "      <th>dir_prev_bfnum</th>\n",
              "      <th>dir_prev_num</th>\n",
              "      <th>num_staff</th>\n",
              "      <th>num_actor</th>\n",
              "      <th>box_off_num</th>\n",
              "    </tr>\n",
              "    <tr>\n",
              "      <th>title</th>\n",
              "      <th></th>\n",
              "      <th></th>\n",
              "      <th></th>\n",
              "      <th></th>\n",
              "      <th></th>\n",
              "      <th></th>\n",
              "      <th></th>\n",
              "      <th></th>\n",
              "      <th></th>\n",
              "      <th></th>\n",
              "      <th></th>\n",
              "    </tr>\n",
              "  </thead>\n",
              "  <tbody>\n",
              "    <tr>\n",
              "      <th>개들의 전쟁</th>\n",
              "      <td>롯데엔터테인먼트</td>\n",
              "      <td>액션</td>\n",
              "      <td>2012-11-22</td>\n",
              "      <td>96</td>\n",
              "      <td>청소년 관람불가</td>\n",
              "      <td>조병옥</td>\n",
              "      <td>0.00</td>\n",
              "      <td>0</td>\n",
              "      <td>91</td>\n",
              "      <td>2</td>\n",
              "      <td>23398</td>\n",
              "    </tr>\n",
              "    <tr>\n",
              "      <th>내부자들</th>\n",
              "      <td>(주)쇼박스</td>\n",
              "      <td>느와르</td>\n",
              "      <td>2015-11-19</td>\n",
              "      <td>130</td>\n",
              "      <td>청소년 관람불가</td>\n",
              "      <td>우민호</td>\n",
              "      <td>1161602.50</td>\n",
              "      <td>2</td>\n",
              "      <td>387</td>\n",
              "      <td>3</td>\n",
              "      <td>7072501</td>\n",
              "    </tr>\n",
              "    <tr>\n",
              "      <th>은밀하게 위대하게</th>\n",
              "      <td>(주)쇼박스</td>\n",
              "      <td>액션</td>\n",
              "      <td>2013-06-05</td>\n",
              "      <td>123</td>\n",
              "      <td>15세 관람가</td>\n",
              "      <td>장철수</td>\n",
              "      <td>220775.25</td>\n",
              "      <td>4</td>\n",
              "      <td>343</td>\n",
              "      <td>4</td>\n",
              "      <td>6959083</td>\n",
              "    </tr>\n",
              "    <tr>\n",
              "      <th>나는 공무원이다</th>\n",
              "      <td>(주)NEW</td>\n",
              "      <td>코미디</td>\n",
              "      <td>2012-07-12</td>\n",
              "      <td>101</td>\n",
              "      <td>전체 관람가</td>\n",
              "      <td>구자홍</td>\n",
              "      <td>23894.00</td>\n",
              "      <td>2</td>\n",
              "      <td>20</td>\n",
              "      <td>6</td>\n",
              "      <td>217866</td>\n",
              "    </tr>\n",
              "    <tr>\n",
              "      <th>불량남녀</th>\n",
              "      <td>쇼박스(주)미디어플렉스</td>\n",
              "      <td>코미디</td>\n",
              "      <td>2010-11-04</td>\n",
              "      <td>108</td>\n",
              "      <td>15세 관람가</td>\n",
              "      <td>신근호</td>\n",
              "      <td>1.00</td>\n",
              "      <td>1</td>\n",
              "      <td>251</td>\n",
              "      <td>2</td>\n",
              "      <td>483387</td>\n",
              "    </tr>\n",
              "    <tr>\n",
              "      <th>...</th>\n",
              "      <td>...</td>\n",
              "      <td>...</td>\n",
              "      <td>...</td>\n",
              "      <td>...</td>\n",
              "      <td>...</td>\n",
              "      <td>...</td>\n",
              "      <td>...</td>\n",
              "      <td>...</td>\n",
              "      <td>...</td>\n",
              "      <td>...</td>\n",
              "      <td>...</td>\n",
              "    </tr>\n",
              "    <tr>\n",
              "      <th>해무</th>\n",
              "      <td>(주)NEW</td>\n",
              "      <td>드라마</td>\n",
              "      <td>2014-08-13</td>\n",
              "      <td>111</td>\n",
              "      <td>청소년 관람불가</td>\n",
              "      <td>심성보</td>\n",
              "      <td>3833.00</td>\n",
              "      <td>1</td>\n",
              "      <td>510</td>\n",
              "      <td>7</td>\n",
              "      <td>1475091</td>\n",
              "    </tr>\n",
              "    <tr>\n",
              "      <th>파파로티</th>\n",
              "      <td>(주)쇼박스</td>\n",
              "      <td>드라마</td>\n",
              "      <td>2013-03-14</td>\n",
              "      <td>127</td>\n",
              "      <td>15세 관람가</td>\n",
              "      <td>윤종찬</td>\n",
              "      <td>496061.00</td>\n",
              "      <td>1</td>\n",
              "      <td>286</td>\n",
              "      <td>6</td>\n",
              "      <td>1716438</td>\n",
              "    </tr>\n",
              "    <tr>\n",
              "      <th>살인의 강</th>\n",
              "      <td>(주)마운틴픽쳐스</td>\n",
              "      <td>공포</td>\n",
              "      <td>2010-09-30</td>\n",
              "      <td>99</td>\n",
              "      <td>청소년 관람불가</td>\n",
              "      <td>김대현</td>\n",
              "      <td>0.00</td>\n",
              "      <td>0</td>\n",
              "      <td>123</td>\n",
              "      <td>4</td>\n",
              "      <td>2475</td>\n",
              "    </tr>\n",
              "    <tr>\n",
              "      <th>악의 연대기</th>\n",
              "      <td>CJ 엔터테인먼트</td>\n",
              "      <td>느와르</td>\n",
              "      <td>2015-05-14</td>\n",
              "      <td>102</td>\n",
              "      <td>15세 관람가</td>\n",
              "      <td>백운학</td>\n",
              "      <td>0.00</td>\n",
              "      <td>0</td>\n",
              "      <td>431</td>\n",
              "      <td>4</td>\n",
              "      <td>2192525</td>\n",
              "    </tr>\n",
              "    <tr>\n",
              "      <th>베를린</th>\n",
              "      <td>CJ 엔터테인먼트</td>\n",
              "      <td>액션</td>\n",
              "      <td>2013-01-30</td>\n",
              "      <td>120</td>\n",
              "      <td>15세 관람가</td>\n",
              "      <td>류승완</td>\n",
              "      <td>0.00</td>\n",
              "      <td>0</td>\n",
              "      <td>363</td>\n",
              "      <td>5</td>\n",
              "      <td>7166532</td>\n",
              "    </tr>\n",
              "  </tbody>\n",
              "</table>\n",
              "<p>600 rows × 11 columns</p>\n",
              "</div>\n",
              "      <button class=\"colab-df-convert\" onclick=\"convertToInteractive('df-b6bb22d5-622f-45f7-a6ce-ea55402ecfde')\"\n",
              "              title=\"Convert this dataframe to an interactive table.\"\n",
              "              style=\"display:none;\">\n",
              "        \n",
              "  <svg xmlns=\"http://www.w3.org/2000/svg\" height=\"24px\"viewBox=\"0 0 24 24\"\n",
              "       width=\"24px\">\n",
              "    <path d=\"M0 0h24v24H0V0z\" fill=\"none\"/>\n",
              "    <path d=\"M18.56 5.44l.94 2.06.94-2.06 2.06-.94-2.06-.94-.94-2.06-.94 2.06-2.06.94zm-11 1L8.5 8.5l.94-2.06 2.06-.94-2.06-.94L8.5 2.5l-.94 2.06-2.06.94zm10 10l.94 2.06.94-2.06 2.06-.94-2.06-.94-.94-2.06-.94 2.06-2.06.94z\"/><path d=\"M17.41 7.96l-1.37-1.37c-.4-.4-.92-.59-1.43-.59-.52 0-1.04.2-1.43.59L10.3 9.45l-7.72 7.72c-.78.78-.78 2.05 0 2.83L4 21.41c.39.39.9.59 1.41.59.51 0 1.02-.2 1.41-.59l7.78-7.78 2.81-2.81c.8-.78.8-2.07 0-2.86zM5.41 20L4 18.59l7.72-7.72 1.47 1.35L5.41 20z\"/>\n",
              "  </svg>\n",
              "      </button>\n",
              "      \n",
              "  <style>\n",
              "    .colab-df-container {\n",
              "      display:flex;\n",
              "      flex-wrap:wrap;\n",
              "      gap: 12px;\n",
              "    }\n",
              "\n",
              "    .colab-df-convert {\n",
              "      background-color: #E8F0FE;\n",
              "      border: none;\n",
              "      border-radius: 50%;\n",
              "      cursor: pointer;\n",
              "      display: none;\n",
              "      fill: #1967D2;\n",
              "      height: 32px;\n",
              "      padding: 0 0 0 0;\n",
              "      width: 32px;\n",
              "    }\n",
              "\n",
              "    .colab-df-convert:hover {\n",
              "      background-color: #E2EBFA;\n",
              "      box-shadow: 0px 1px 2px rgba(60, 64, 67, 0.3), 0px 1px 3px 1px rgba(60, 64, 67, 0.15);\n",
              "      fill: #174EA6;\n",
              "    }\n",
              "\n",
              "    [theme=dark] .colab-df-convert {\n",
              "      background-color: #3B4455;\n",
              "      fill: #D2E3FC;\n",
              "    }\n",
              "\n",
              "    [theme=dark] .colab-df-convert:hover {\n",
              "      background-color: #434B5C;\n",
              "      box-shadow: 0px 1px 3px 1px rgba(0, 0, 0, 0.15);\n",
              "      filter: drop-shadow(0px 1px 2px rgba(0, 0, 0, 0.3));\n",
              "      fill: #FFFFFF;\n",
              "    }\n",
              "  </style>\n",
              "\n",
              "      <script>\n",
              "        const buttonEl =\n",
              "          document.querySelector('#df-b6bb22d5-622f-45f7-a6ce-ea55402ecfde button.colab-df-convert');\n",
              "        buttonEl.style.display =\n",
              "          google.colab.kernel.accessAllowed ? 'block' : 'none';\n",
              "\n",
              "        async function convertToInteractive(key) {\n",
              "          const element = document.querySelector('#df-b6bb22d5-622f-45f7-a6ce-ea55402ecfde');\n",
              "          const dataTable =\n",
              "            await google.colab.kernel.invokeFunction('convertToInteractive',\n",
              "                                                     [key], {});\n",
              "          if (!dataTable) return;\n",
              "\n",
              "          const docLinkHtml = 'Like what you see? Visit the ' +\n",
              "            '<a target=\"_blank\" href=https://colab.research.google.com/notebooks/data_table.ipynb>data table notebook</a>'\n",
              "            + ' to learn more about interactive tables.';\n",
              "          element.innerHTML = '';\n",
              "          dataTable['output_type'] = 'display_data';\n",
              "          await google.colab.output.renderOutput(dataTable, element);\n",
              "          const docLink = document.createElement('div');\n",
              "          docLink.innerHTML = docLinkHtml;\n",
              "          element.appendChild(docLink);\n",
              "        }\n",
              "      </script>\n",
              "    </div>\n",
              "  </div>\n",
              "  "
            ]
          },
          "metadata": {},
          "execution_count": 7
        }
      ]
    },
    {
      "cell_type": "code",
      "source": [
        "from sklearn.preprocessing import OrdinalEncoder\n",
        "\n",
        "oe = OrdinalEncoder(handle_unknown='use_encoded_value', unknown_value=-1)\n",
        "train[categorical_feature] = oe.fit_transform(train[categorical_feature])\n",
        "test[categorical_feature] = oe.transform(test[categorical_feature])"
      ],
      "metadata": {
        "id": "32qLM8SSN3Ld"
      },
      "execution_count": 8,
      "outputs": []
    },
    {
      "cell_type": "code",
      "source": [
        "train = train.drop(['dir_prev_bfnum'],axis = 1)\n",
        "test = test.drop(['dir_prev_bfnum'],axis = 1)"
      ],
      "metadata": {
        "id": "ngGQMrD6mse8"
      },
      "execution_count": 10,
      "outputs": []
    },
    {
      "cell_type": "code",
      "source": [
        "train = train.drop(['director'],axis = 1)\n",
        "test = test.drop(['director'],axis = 1)"
      ],
      "metadata": {
        "id": "lIat--BDnCY0"
      },
      "execution_count": 12,
      "outputs": []
    },
    {
      "cell_type": "code",
      "source": [
        "X, y = train.drop(columns=\"box_off_num\"), train[\"box_off_num\"]\n",
        "X.shape, y.shape"
      ],
      "metadata": {
        "colab": {
          "base_uri": "https://localhost:8080/"
        },
        "id": "NHVuJDU3N5Iy",
        "outputId": "3d2f9f53-5601-4964-823a-cced0f4e9fb3"
      },
      "execution_count": 13,
      "outputs": [
        {
          "output_type": "execute_result",
          "data": {
            "text/plain": [
              "((600, 8), (600,))"
            ]
          },
          "metadata": {},
          "execution_count": 13
        }
      ]
    },
    {
      "cell_type": "code",
      "source": [
        "from sklearn.model_selection import train_test_split\n",
        "\n",
        "X_train, X_valid, y_train, y_valid = train_test_split(\n",
        "    X, y, test_size=0.05, random_state=42)\n",
        "X_train.shape, X_valid.shape, y_train.shape, y_valid.shape"
      ],
      "metadata": {
        "colab": {
          "base_uri": "https://localhost:8080/"
        },
        "id": "pjLyekMMOHdg",
        "outputId": "1ca2a476-5aa1-4843-8fb8-8af8b8cbb2f5"
      },
      "execution_count": 18,
      "outputs": [
        {
          "output_type": "execute_result",
          "data": {
            "text/plain": [
              "((570, 8), (30, 8), (570,), (30,))"
            ]
          },
          "metadata": {},
          "execution_count": 18
        }
      ]
    },
    {
      "cell_type": "code",
      "source": [
        "X_test = test"
      ],
      "metadata": {
        "id": "HtsWqIAQOLCr"
      },
      "execution_count": 19,
      "outputs": []
    },
    {
      "cell_type": "code",
      "source": [
        "# torch, nn, optim import \n",
        "import torch\n",
        "import torch.nn as nn\n",
        "import torch.optim as optim\n",
        "# PyTorch 모델을 위한 데이터 변환\n",
        "\n",
        "\n",
        "X_train_t = torch.FloatTensor(X_train.values)\n",
        "y_train_t = torch.FloatTensor(y_train.values.reshape(-1, 1))\n",
        "X_valid_t = torch.FloatTensor(X_valid.values)\n",
        "y_valid_t = torch.FloatTensor(y_valid.values.reshape(-1, 1))\n",
        "X_test_t = torch.FloatTensor(X_test.values)\n",
        "\n",
        "# X_train.shape, y_train.shape, X_valid.shape, y_valid.shape\n",
        "X_train_t.shape, y_train_t.shape, X_valid_t.shape, y_valid_t.shape, X_test_t.shape"
      ],
      "metadata": {
        "colab": {
          "base_uri": "https://localhost:8080/"
        },
        "id": "6wJXwMZ_OMRk",
        "outputId": "c694d33e-565f-4b90-d5ec-48cf9388b733"
      },
      "execution_count": 20,
      "outputs": [
        {
          "output_type": "execute_result",
          "data": {
            "text/plain": [
              "(torch.Size([570, 8]),\n",
              " torch.Size([570, 1]),\n",
              " torch.Size([30, 8]),\n",
              " torch.Size([30, 1]),\n",
              " torch.Size([243, 8]))"
            ]
          },
          "metadata": {},
          "execution_count": 20
        }
      ]
    },
    {
      "cell_type": "code",
      "source": [
        "y_train.values.reshape(-1, 1).shape"
      ],
      "metadata": {
        "colab": {
          "base_uri": "https://localhost:8080/"
        },
        "id": "-x6wxUiqOOwU",
        "outputId": "ec0d276e-b573-49fc-c24e-da4219c248c9"
      },
      "execution_count": 21,
      "outputs": [
        {
          "output_type": "execute_result",
          "data": {
            "text/plain": [
              "(570, 1)"
            ]
          },
          "metadata": {},
          "execution_count": 21
        }
      ]
    },
    {
      "cell_type": "code",
      "source": [
        "X_train_t[0].shape"
      ],
      "metadata": {
        "colab": {
          "base_uri": "https://localhost:8080/"
        },
        "id": "BXO49FRqORXK",
        "outputId": "ef1c74e8-07c6-447d-f1d1-cc3745356ea9"
      },
      "execution_count": 22,
      "outputs": [
        {
          "output_type": "execute_result",
          "data": {
            "text/plain": [
              "torch.Size([8])"
            ]
          },
          "metadata": {},
          "execution_count": 22
        }
      ]
    },
    {
      "cell_type": "code",
      "source": [
        "X_train_t.shape[1]"
      ],
      "metadata": {
        "colab": {
          "base_uri": "https://localhost:8080/"
        },
        "id": "lQ-rh_H9OS3n",
        "outputId": "53c6a7e6-8d26-4ade-d0e0-bd5640db757d"
      },
      "execution_count": 23,
      "outputs": [
        {
          "output_type": "execute_result",
          "data": {
            "text/plain": [
              "8"
            ]
          },
          "metadata": {},
          "execution_count": 23
        }
      ]
    },
    {
      "cell_type": "code",
      "source": [
        "# Multivariate Linear Regression 모델 구현\n",
        "\n",
        "class MultivariateLinearRegression(nn.Module):\n",
        "    def __init__(self, input_size, output_size):\n",
        "        super(MultivariateLinearRegression, self).__init__()\n",
        "        self.linear_relu_stack = nn.Sequential(\n",
        "            nn.Linear(input_size, 512),\n",
        "            nn.ReLU(),\n",
        "            nn.Linear(512, 512),\n",
        "            nn.ReLU(),\n",
        "            nn.Linear(512, output_size)\n",
        "        )\n",
        "    \n",
        "    def forward(self, x):\n",
        "        x = self.linear_relu_stack(x)\n",
        "        return x    \n",
        "\n",
        "# 모델 인스턴스 생성\n",
        "model = MultivariateLinearRegression(input_size=X_train_t.shape[1], output_size=1)\n",
        "\n",
        "# 손실 함수 및 최적화 알고리즘 설정\n",
        "criterion = nn.MSELoss()\n",
        "optimizer = torch.optim.Adam(model.parameters(), lr=1e-3)"
      ],
      "metadata": {
        "id": "_Iy7j0snOTza"
      },
      "execution_count": 24,
      "outputs": []
    },
    {
      "cell_type": "code",
      "source": [
        "# 모델 학습하기\n",
        "# epochs\n",
        "    # 순전파 계산\n",
        "    # 손실 계산\n",
        "    # 역전파 계산 및 가중치 갱신\n",
        "    # 로그 출력\n",
        "num_epochs = 500\n",
        "loss_list = []\n",
        "for epoch in range(num_epochs):\n",
        "    y_pred = model(X_train_t)\n",
        "    loss = criterion(y_train_t, y_pred)\n",
        "\n",
        "    # 역전파\n",
        "    optimizer.zero_grad()\n",
        "    loss.backward()\n",
        "    optimizer.step()\n",
        "\n",
        "    # loss_list 시각화나 로그를 확인해 보기 위해 사용\n",
        "    loss_list.append(loss.item())\n",
        "    if (epoch + 1) % 50 == 0:\n",
        "        print(f\"epoch:{epoch}, loss:{loss.item()}\")"
      ],
      "metadata": {
        "colab": {
          "base_uri": "https://localhost:8080/"
        },
        "id": "VZcEcyPTOVZA",
        "outputId": "6fafbbc6-7607-4a99-80c3-553ebb853e90"
      },
      "execution_count": 25,
      "outputs": [
        {
          "output_type": "stream",
          "name": "stdout",
          "text": [
            "epoch:49, loss:3861078867968.0\n",
            "epoch:99, loss:3540133347328.0\n",
            "epoch:149, loss:2999650353152.0\n",
            "epoch:199, loss:2735423356928.0\n",
            "epoch:249, loss:2535237615616.0\n",
            "epoch:299, loss:2399539822592.0\n",
            "epoch:349, loss:2326989111296.0\n",
            "epoch:399, loss:2289680777216.0\n",
            "epoch:449, loss:2265583976448.0\n",
            "epoch:499, loss:2247899742208.0\n"
          ]
        }
      ]
    },
    {
      "cell_type": "code",
      "source": [
        "pd.Series(loss_list).plot()"
      ],
      "metadata": {
        "colab": {
          "base_uri": "https://localhost:8080/",
          "height": 463
        },
        "id": "lV_uXPZFOx6v",
        "outputId": "34375b0f-c9c1-4252-9ed8-839ec3ea6da3"
      },
      "execution_count": 26,
      "outputs": [
        {
          "output_type": "execute_result",
          "data": {
            "text/plain": [
              "<Axes: >"
            ]
          },
          "metadata": {},
          "execution_count": 26
        },
        {
          "output_type": "display_data",
          "data": {
            "text/plain": [
              "<Figure size 640x480 with 1 Axes>"
            ],
            "image/png": "[encoded data removed]"
          },
          "metadata": {}
        }
      ]
    },
    {
      "cell_type": "code",
      "source": [
        "with torch.no_grad():\n",
        "    y_valid_pred = model(X_valid_t)\n",
        "    print(f\"val_loss : {criterion(y_valid_t, y_valid_pred).item()}\")"
      ],
      "metadata": {
        "colab": {
          "base_uri": "https://localhost:8080/"
        },
        "id": "GMBqywVoO2Zf",
        "outputId": "4451f230-2c7a-4be2-9b53-c65718d5311a"
      },
      "execution_count": 27,
      "outputs": [
        {
          "output_type": "stream",
          "name": "stdout",
          "text": [
            "val_loss : 1757800562688.0\n"
          ]
        }
      ]
    },
    {
      "cell_type": "code",
      "source": [
        "# valid score r2_score\n",
        "\n",
        "from sklearn.metrics import r2_score\n",
        "\n",
        "valid_score = r2_score(y_valid_t, y_valid_pred)\n",
        "valid_score"
      ],
      "metadata": {
        "colab": {
          "base_uri": "https://localhost:8080/"
        },
        "id": "GI76Nk55E7NW",
        "outputId": "1cf5b8e7-023e-4699-c679-8438267a2ddc"
      },
      "execution_count": 28,
      "outputs": [
        {
          "output_type": "execute_result",
          "data": {
            "text/plain": [
              "0.08168049411181866"
            ]
          },
          "metadata": {},
          "execution_count": 28
        }
      ]
    },
    {
      "cell_type": "code",
      "source": [
        "with torch.no_grad():\n",
        "    y_predict = model(X_test_t)"
      ],
      "metadata": {
        "id": "3YGEpGJfE81e"
      },
      "execution_count": 29,
      "outputs": []
    },
    {
      "cell_type": "code",
      "source": [
        "y_predict.squeeze().shape"
      ],
      "metadata": {
        "colab": {
          "base_uri": "https://localhost:8080/"
        },
        "id": "bj0CeQCBE-ck",
        "outputId": "a9650113-7920-4b39-d955-ccd559e9966f"
      },
      "execution_count": 30,
      "outputs": [
        {
          "output_type": "execute_result",
          "data": {
            "text/plain": [
              "torch.Size([243])"
            ]
          },
          "metadata": {},
          "execution_count": 30
        }
      ]
    },
    {
      "cell_type": "code",
      "source": [
        "y_predict.squeeze()"
      ],
      "metadata": {
        "colab": {
          "base_uri": "https://localhost:8080/"
        },
        "id": "E0fNZGnFFBLR",
        "outputId": "791323b0-5d8c-48a0-8e91-afd8090ebd43"
      },
      "execution_count": 31,
      "outputs": [
        {
          "output_type": "execute_result",
          "data": {
            "text/plain": [
              "tensor([ 1.6446e+06,  1.9261e+06,  2.7463e+06,  2.7902e+06,  2.4382e+06,\n",
              "         1.1867e+06, -4.6857e+03,  9.3277e+05,  6.2937e+05,  1.8728e+06,\n",
              "         9.2905e+05,  1.7261e+06,  2.2213e+06,  2.0567e+05,  1.7796e+06,\n",
              "         3.2373e+06,  6.2296e+05,  1.8264e+06,  1.4275e+06, -3.4926e+03,\n",
              "         1.7282e+05,  5.1416e+05,  1.0843e+06, -4.4814e+03,  2.6304e+05,\n",
              "         2.8074e+06, -5.4565e+03,  2.1301e+06,  7.1530e+05,  1.0185e+06,\n",
              "         1.9410e+06, -3.8543e+03,  2.8683e+04,  1.8516e+06,  8.9590e+04,\n",
              "         8.2365e+04, -7.7626e+03, -6.4352e+03, -9.2788e+03,  2.1459e+05,\n",
              "         9.2348e+05, -8.6273e+03, -7.0951e+03, -4.5556e+03,  3.5628e+05,\n",
              "         2.5195e+06,  2.5471e+05,  1.2166e+06,  4.6073e+05, -6.7911e+03,\n",
              "         2.6474e+04,  1.3478e+06,  4.8397e+05,  1.4988e+06,  1.8206e+06,\n",
              "         1.3227e+06, -7.0956e+03,  1.8527e+06,  2.2762e+06,  2.4086e+06,\n",
              "         2.4737e+06,  2.2943e+06,  9.4588e+05,  4.9572e+03,  1.4043e+06,\n",
              "         4.8465e+05,  1.8303e+06,  2.7505e+05,  1.0953e+06,  5.1772e+05,\n",
              "         2.6619e+06,  1.3676e+06, -6.2411e+03,  1.6945e+06, -6.6242e+03,\n",
              "         5.4492e+04,  1.3429e+06,  2.8991e+05,  9.8438e+05, -7.9246e+03,\n",
              "         1.4406e+05,  1.9771e+06,  8.4492e+05,  2.0358e+06, -5.6066e+03,\n",
              "         2.1045e+06, -7.7510e+03, -7.2149e+03, -5.7591e+03,  7.8587e+05,\n",
              "        -5.3809e+03, -7.1608e+03,  1.0597e+06,  1.7326e+06, -6.2252e+03,\n",
              "         1.0320e+05,  5.7387e+04,  3.0893e+05,  7.3792e+05,  8.4539e+05,\n",
              "         1.7489e+06,  2.0399e+06,  2.1923e+04,  7.9559e+04,  1.3198e+06,\n",
              "         1.0454e+05,  1.8181e+06,  2.5581e+05,  2.3865e+06, -7.3140e+03,\n",
              "        -6.9868e+03,  1.9203e+06,  2.2199e+06, -1.0502e+04,  1.6295e+05,\n",
              "         1.7585e+06,  3.2411e+05,  1.5799e+06, -1.0581e+04, -1.0981e+04,\n",
              "         1.4415e+05,  1.0615e+06,  1.5692e+06,  5.6408e+03,  1.3527e+05,\n",
              "        -7.7871e+03, -1.1600e+04, -8.4431e+03,  6.7046e+05, -7.8626e+03,\n",
              "        -4.6456e+03,  8.4013e+05, -8.8040e+03, -7.6836e+03,  2.5370e+06,\n",
              "         2.6366e+06, -8.1835e+03,  1.0401e+06,  7.3761e+03,  1.5657e+05,\n",
              "        -3.2784e+03,  1.9706e+06,  2.2328e+06,  1.3429e+06, -8.9376e+03,\n",
              "         1.2066e+06, -1.0118e+04,  1.6562e+05,  2.9078e+06,  2.3219e+06,\n",
              "        -1.4151e+04,  4.1924e+05,  8.9681e+05,  1.9455e+05,  4.6566e+04,\n",
              "         2.4335e+06, -5.0804e+03, -4.7777e+03,  3.3385e+06,  2.7744e+06,\n",
              "         8.9782e+05,  3.0103e+06,  2.8369e+05, -1.1052e+04, -8.3190e+03,\n",
              "        -8.9834e+03,  2.6620e+06,  8.9293e+04, -1.1915e+04,  1.5632e+05,\n",
              "        -1.6604e+03,  1.9117e+05,  3.8885e+05,  2.1460e+05,  4.1815e+05,\n",
              "         8.4866e+05,  3.7713e+05,  5.1585e+04,  5.0954e+06,  4.3795e+06,\n",
              "         3.5868e+05,  1.2469e+04,  3.6272e+05,  8.5730e+05,  3.1674e+06,\n",
              "        -9.9954e+03, -1.3343e+04,  4.5657e+05, -8.1772e+03,  1.1896e+06,\n",
              "         1.6047e+05,  6.4317e+04, -3.2283e+03, -1.0915e+04,  1.2469e+04,\n",
              "         2.9769e+06, -1.1599e+04,  2.6102e+06, -1.0489e+04,  2.6166e+06,\n",
              "         4.3313e+05, -1.0362e+04,  1.4857e+05,  1.9696e+04,  9.5086e+05,\n",
              "         8.5444e+05,  2.6812e+06,  2.1378e+06, -1.5715e+04,  2.2060e+06,\n",
              "        -1.1054e+04,  2.7071e+06,  2.7730e+06,  1.6856e+06, -1.1243e+04,\n",
              "        -1.4167e+04,  3.2165e+06, -1.4237e+04,  2.2019e+05,  2.0233e+05,\n",
              "        -6.8745e+03,  2.7481e+06, -1.2265e+04,  7.0798e+04,  3.3224e+06,\n",
              "         4.5151e+04,  2.9273e+05,  1.3100e+06,  6.3863e+04,  3.8019e+06,\n",
              "         4.0738e+05,  2.0392e+06,  5.7621e+05, -1.2132e+04,  1.1600e+05,\n",
              "         8.5577e+04,  7.4450e+05, -1.3455e+04,  1.6665e+04, -1.2787e+04,\n",
              "         1.1899e+06,  2.4008e+05,  1.0255e+04])"
            ]
          },
          "metadata": {},
          "execution_count": 31
        }
      ]
    },
    {
      "cell_type": "code",
      "source": [
        "submission[\"box_off_num\"] = y_predict.squeeze()\n",
        "submission[:5]"
      ],
      "metadata": {
        "colab": {
          "base_uri": "https://localhost:8080/",
          "height": 237
        },
        "id": "7g79FEdmFEQ-",
        "outputId": "873a30c2-4b42-4554-a9ef-4510df4c64ad"
      },
      "execution_count": 32,
      "outputs": [
        {
          "output_type": "execute_result",
          "data": {
            "text/plain": [
              "             box_off_num\n",
              "title                   \n",
              "용서는 없다        1644626.25\n",
              "아빠가 여자를 좋아해   1926104.50\n",
              "하모니           2746270.25\n",
              "의형제           2790204.00\n",
              "평행 이론         2438206.50"
            ],
            "text/html": [
              "\n",
              "  <div id=\"df-72872d6b-1b37-4beb-9e5e-b5a569b92929\">\n",
              "    <div class=\"colab-df-container\">\n",
              "      <div>\n",
              "<style scoped>\n",
              "    .dataframe tbody tr th:only-of-type {\n",
              "        vertical-align: middle;\n",
              "    }\n",
              "\n",
              "    .dataframe tbody tr th {\n",
              "        vertical-align: top;\n",
              "    }\n",
              "\n",
              "    .dataframe thead th {\n",
              "        text-align: right;\n",
              "    }\n",
              "</style>\n",
              "<table border=\"1\" class=\"dataframe\">\n",
              "  <thead>\n",
              "    <tr style=\"text-align: right;\">\n",
              "      <th></th>\n",
              "      <th>box_off_num</th>\n",
              "    </tr>\n",
              "    <tr>\n",
              "      <th>title</th>\n",
              "      <th></th>\n",
              "    </tr>\n",
              "  </thead>\n",
              "  <tbody>\n",
              "    <tr>\n",
              "      <th>용서는 없다</th>\n",
              "      <td>1644626.25</td>\n",
              "    </tr>\n",
              "    <tr>\n",
              "      <th>아빠가 여자를 좋아해</th>\n",
              "      <td>1926104.50</td>\n",
              "    </tr>\n",
              "    <tr>\n",
              "      <th>하모니</th>\n",
              "      <td>2746270.25</td>\n",
              "    </tr>\n",
              "    <tr>\n",
              "      <th>의형제</th>\n",
              "      <td>2790204.00</td>\n",
              "    </tr>\n",
              "    <tr>\n",
              "      <th>평행 이론</th>\n",
              "      <td>2438206.50</td>\n",
              "    </tr>\n",
              "  </tbody>\n",
              "</table>\n",
              "</div>\n",
              "      <button class=\"colab-df-convert\" onclick=\"convertToInteractive('df-72872d6b-1b37-4beb-9e5e-b5a569b92929')\"\n",
              "              title=\"Convert this dataframe to an interactive table.\"\n",
              "              style=\"display:none;\">\n",
              "        \n",
              "  <svg xmlns=\"http://www.w3.org/2000/svg\" height=\"24px\"viewBox=\"0 0 24 24\"\n",
              "       width=\"24px\">\n",
              "    <path d=\"M0 0h24v24H0V0z\" fill=\"none\"/>\n",
              "    <path d=\"M18.56 5.44l.94 2.06.94-2.06 2.06-.94-2.06-.94-.94-2.06-.94 2.06-2.06.94zm-11 1L8.5 8.5l.94-2.06 2.06-.94-2.06-.94L8.5 2.5l-.94 2.06-2.06.94zm10 10l.94 2.06.94-2.06 2.06-.94-2.06-.94-.94-2.06-.94 2.06-2.06.94z\"/><path d=\"M17.41 7.96l-1.37-1.37c-.4-.4-.92-.59-1.43-.59-.52 0-1.04.2-1.43.59L10.3 9.45l-7.72 7.72c-.78.78-.78 2.05 0 2.83L4 21.41c.39.39.9.59 1.41.59.51 0 1.02-.2 1.41-.59l7.78-7.78 2.81-2.81c.8-.78.8-2.07 0-2.86zM5.41 20L4 18.59l7.72-7.72 1.47 1.35L5.41 20z\"/>\n",
              "  </svg>\n",
              "      </button>\n",
              "      \n",
              "  <style>\n",
              "    .colab-df-container {\n",
              "      display:flex;\n",
              "      flex-wrap:wrap;\n",
              "      gap: 12px;\n",
              "    }\n",
              "\n",
              "    .colab-df-convert {\n",
              "      background-color: #E8F0FE;\n",
              "      border: none;\n",
              "      border-radius: 50%;\n",
              "      cursor: pointer;\n",
              "      display: none;\n",
              "      fill: #1967D2;\n",
              "      height: 32px;\n",
              "      padding: 0 0 0 0;\n",
              "      width: 32px;\n",
              "    }\n",
              "\n",
              "    .colab-df-convert:hover {\n",
              "      background-color: #E2EBFA;\n",
              "      box-shadow: 0px 1px 2px rgba(60, 64, 67, 0.3), 0px 1px 3px 1px rgba(60, 64, 67, 0.15);\n",
              "      fill: #174EA6;\n",
              "    }\n",
              "\n",
              "    [theme=dark] .colab-df-convert {\n",
              "      background-color: #3B4455;\n",
              "      fill: #D2E3FC;\n",
              "    }\n",
              "\n",
              "    [theme=dark] .colab-df-convert:hover {\n",
              "      background-color: #434B5C;\n",
              "      box-shadow: 0px 1px 3px 1px rgba(0, 0, 0, 0.15);\n",
              "      filter: drop-shadow(0px 1px 2px rgba(0, 0, 0, 0.3));\n",
              "      fill: #FFFFFF;\n",
              "    }\n",
              "  </style>\n",
              "\n",
              "      <script>\n",
              "        const buttonEl =\n",
              "          document.querySelector('#df-72872d6b-1b37-4beb-9e5e-b5a569b92929 button.colab-df-convert');\n",
              "        buttonEl.style.display =\n",
              "          google.colab.kernel.accessAllowed ? 'block' : 'none';\n",
              "\n",
              "        async function convertToInteractive(key) {\n",
              "          const element = document.querySelector('#df-72872d6b-1b37-4beb-9e5e-b5a569b92929');\n",
              "          const dataTable =\n",
              "            await google.colab.kernel.invokeFunction('convertToInteractive',\n",
              "                                                     [key], {});\n",
              "          if (!dataTable) return;\n",
              "\n",
              "          const docLinkHtml = 'Like what you see? Visit the ' +\n",
              "            '<a target=\"_blank\" href=https://colab.research.google.com/notebooks/data_table.ipynb>data table notebook</a>'\n",
              "            + ' to learn more about interactive tables.';\n",
              "          element.innerHTML = '';\n",
              "          dataTable['output_type'] = 'display_data';\n",
              "          await google.colab.output.renderOutput(dataTable, element);\n",
              "          const docLink = document.createElement('div');\n",
              "          docLink.innerHTML = docLinkHtml;\n",
              "          element.appendChild(docLink);\n",
              "        }\n",
              "      </script>\n",
              "    </div>\n",
              "  </div>\n",
              "  "
            ]
          },
          "metadata": {},
          "execution_count": 32
        }
      ]
    },
    {
      "cell_type": "code",
      "source": [
        "file_name = f\"submit_pytorch_{valid_score:.5f}.csv\"\n",
        "file_name"
      ],
      "metadata": {
        "colab": {
          "base_uri": "https://localhost:8080/",
          "height": 35
        },
        "id": "LvT53lnUFJOT",
        "outputId": "f2e9c129-982a-46fc-cde1-37c67585287a"
      },
      "execution_count": 33,
      "outputs": [
        {
          "output_type": "execute_result",
          "data": {
            "text/plain": [
              "'submit_pytorch_0.08168.csv'"
            ],
            "application/vnd.google.colaboratory.intrinsic+json": {
              "type": "string"
            }
          },
          "metadata": {},
          "execution_count": 33
        }
      ]
    },
    {
      "cell_type": "code",
      "source": [
        "submission.to_csv(file_name)\n",
        "pd.read_csv(file_name, index_col=\"title\").head(2)"
      ],
      "metadata": {
        "colab": {
          "base_uri": "https://localhost:8080/",
          "height": 143
        },
        "id": "gsucSRRLFLcw",
        "outputId": "5de235a2-74b1-430c-88aa-45cda408f694"
      },
      "execution_count": 34,
      "outputs": [
        {
          "output_type": "execute_result",
          "data": {
            "text/plain": [
              "             box_off_num\n",
              "title                   \n",
              "용서는 없다         1644626.2\n",
              "아빠가 여자를 좋아해    1926104.5"
            ],
            "text/html": [
              "\n",
              "  <div id=\"df-fbe0cdef-fb55-4310-adbe-a832d5f5d490\">\n",
              "    <div class=\"colab-df-container\">\n",
              "      <div>\n",
              "<style scoped>\n",
              "    .dataframe tbody tr th:only-of-type {\n",
              "        vertical-align: middle;\n",
              "    }\n",
              "\n",
              "    .dataframe tbody tr th {\n",
              "        vertical-align: top;\n",
              "    }\n",
              "\n",
              "    .dataframe thead th {\n",
              "        text-align: right;\n",
              "    }\n",
              "</style>\n",
              "<table border=\"1\" class=\"dataframe\">\n",
              "  <thead>\n",
              "    <tr style=\"text-align: right;\">\n",
              "      <th></th>\n",
              "      <th>box_off_num</th>\n",
              "    </tr>\n",
              "    <tr>\n",
              "      <th>title</th>\n",
              "      <th></th>\n",
              "    </tr>\n",
              "  </thead>\n",
              "  <tbody>\n",
              "    <tr>\n",
              "      <th>용서는 없다</th>\n",
              "      <td>1644626.2</td>\n",
              "    </tr>\n",
              "    <tr>\n",
              "      <th>아빠가 여자를 좋아해</th>\n",
              "      <td>1926104.5</td>\n",
              "    </tr>\n",
              "  </tbody>\n",
              "</table>\n",
              "</div>\n",
              "      <button class=\"colab-df-convert\" onclick=\"convertToInteractive('df-fbe0cdef-fb55-4310-adbe-a832d5f5d490')\"\n",
              "              title=\"Convert this dataframe to an interactive table.\"\n",
              "              style=\"display:none;\">\n",
              "        \n",
              "  <svg xmlns=\"http://www.w3.org/2000/svg\" height=\"24px\"viewBox=\"0 0 24 24\"\n",
              "       width=\"24px\">\n",
              "    <path d=\"M0 0h24v24H0V0z\" fill=\"none\"/>\n",
              "    <path d=\"M18.56 5.44l.94 2.06.94-2.06 2.06-.94-2.06-.94-.94-2.06-.94 2.06-2.06.94zm-11 1L8.5 8.5l.94-2.06 2.06-.94-2.06-.94L8.5 2.5l-.94 2.06-2.06.94zm10 10l.94 2.06.94-2.06 2.06-.94-2.06-.94-.94-2.06-.94 2.06-2.06.94z\"/><path d=\"M17.41 7.96l-1.37-1.37c-.4-.4-.92-.59-1.43-.59-.52 0-1.04.2-1.43.59L10.3 9.45l-7.72 7.72c-.78.78-.78 2.05 0 2.83L4 21.41c.39.39.9.59 1.41.59.51 0 1.02-.2 1.41-.59l7.78-7.78 2.81-2.81c.8-.78.8-2.07 0-2.86zM5.41 20L4 18.59l7.72-7.72 1.47 1.35L5.41 20z\"/>\n",
              "  </svg>\n",
              "      </button>\n",
              "      \n",
              "  <style>\n",
              "    .colab-df-container {\n",
              "      display:flex;\n",
              "      flex-wrap:wrap;\n",
              "      gap: 12px;\n",
              "    }\n",
              "\n",
              "    .colab-df-convert {\n",
              "      background-color: #E8F0FE;\n",
              "      border: none;\n",
              "      border-radius: 50%;\n",
              "      cursor: pointer;\n",
              "      display: none;\n",
              "      fill: #1967D2;\n",
              "      height: 32px;\n",
              "      padding: 0 0 0 0;\n",
              "      width: 32px;\n",
              "    }\n",
              "\n",
              "    .colab-df-convert:hover {\n",
              "      background-color: #E2EBFA;\n",
              "      box-shadow: 0px 1px 2px rgba(60, 64, 67, 0.3), 0px 1px 3px 1px rgba(60, 64, 67, 0.15);\n",
              "      fill: #174EA6;\n",
              "    }\n",
              "\n",
              "    [theme=dark] .colab-df-convert {\n",
              "      background-color: #3B4455;\n",
              "      fill: #D2E3FC;\n",
              "    }\n",
              "\n",
              "    [theme=dark] .colab-df-convert:hover {\n",
              "      background-color: #434B5C;\n",
              "      box-shadow: 0px 1px 3px 1px rgba(0, 0, 0, 0.15);\n",
              "      filter: drop-shadow(0px 1px 2px rgba(0, 0, 0, 0.3));\n",
              "      fill: #FFFFFF;\n",
              "    }\n",
              "  </style>\n",
              "\n",
              "      <script>\n",
              "        const buttonEl =\n",
              "          document.querySelector('#df-fbe0cdef-fb55-4310-adbe-a832d5f5d490 button.colab-df-convert');\n",
              "        buttonEl.style.display =\n",
              "          google.colab.kernel.accessAllowed ? 'block' : 'none';\n",
              "\n",
              "        async function convertToInteractive(key) {\n",
              "          const element = document.querySelector('#df-fbe0cdef-fb55-4310-adbe-a832d5f5d490');\n",
              "          const dataTable =\n",
              "            await google.colab.kernel.invokeFunction('convertToInteractive',\n",
              "                                                     [key], {});\n",
              "          if (!dataTable) return;\n",
              "\n",
              "          const docLinkHtml = 'Like what you see? Visit the ' +\n",
              "            '<a target=\"_blank\" href=https://colab.research.google.com/notebooks/data_table.ipynb>data table notebook</a>'\n",
              "            + ' to learn more about interactive tables.';\n",
              "          element.innerHTML = '';\n",
              "          dataTable['output_type'] = 'display_data';\n",
              "          await google.colab.output.renderOutput(dataTable, element);\n",
              "          const docLink = document.createElement('div');\n",
              "          docLink.innerHTML = docLinkHtml;\n",
              "          element.appendChild(docLink);\n",
              "        }\n",
              "      </script>\n",
              "    </div>\n",
              "  </div>\n",
              "  "
            ]
          },
          "metadata": {},
          "execution_count": 34
        }
      ]
    },
    {
      "cell_type": "code",
      "source": [
        "from google.colab import files\n",
        "\n",
        "files.download(file_name)"
      ],
      "metadata": {
        "colab": {
          "base_uri": "https://localhost:8080/",
          "height": 17
        },
        "id": "4cYV8ttpFPDg",
        "outputId": "aa1b7e91-ec01-44fb-9eab-1446f0901ef9"
      },
      "execution_count": 35,
      "outputs": [
        {
          "output_type": "display_data",
          "data": {
            "text/plain": [
              "<IPython.core.display.Javascript object>"
            ],
            "application/javascript": [
              "\n",
              "    async function download(id, filename, size) {\n",
              "      if (!google.colab.kernel.accessAllowed) {\n",
              "        return;\n",
              "      }\n",
              "      const div = document.createElement('div');\n",
              "      const label = document.createElement('label');\n",
              "      label.textContent = `Downloading \"${filename}\": `;\n",
              "      div.appendChild(label);\n",
              "      const progress = document.createElement('progress');\n",
              "      progress.max = size;\n",
              "      div.appendChild(progress);\n",
              "      document.body.appendChild(div);\n",
              "\n",
              "      const buffers = [];\n",
              "      let downloaded = 0;\n",
              "\n",
              "      const channel = await google.colab.kernel.comms.open(id);\n",
              "      // Send a message to notify the kernel that we're ready.\n",
              "      channel.send({})\n",
              "\n",
              "      for await (const message of channel.messages) {\n",
              "        // Send a message to notify the kernel that we're ready.\n",
              "        channel.send({})\n",
              "        if (message.buffers) {\n",
              "          for (const buffer of message.buffers) {\n",
              "            buffers.push(buffer);\n",
              "            downloaded += buffer.byteLength;\n",
              "            progress.value = downloaded;\n",
              "          }\n",
              "        }\n",
              "      }\n",
              "      const blob = new Blob(buffers, {type: 'application/binary'});\n",
              "      const a = document.createElement('a');\n",
              "      a.href = window.URL.createObjectURL(blob);\n",
              "      a.download = filename;\n",
              "      div.appendChild(a);\n",
              "      a.click();\n",
              "      div.remove();\n",
              "    }\n",
              "  "
            ]
          },
          "metadata": {}
        },
        {
          "output_type": "display_data",
          "data": {
            "text/plain": [
              "<IPython.core.display.Javascript object>"
            ],
            "application/javascript": [
              "download(\"download_349b3286-2621-4fa4-963e-3c77942498b8\", \"submit_pytorch_0.08168.csv\", 6750)"
            ]
          },
          "metadata": {}
        }
      ]
    },
    {
      "cell_type": "code",
      "source": [],
      "metadata": {
        "id": "S72oI1DCFQwt"
      },
      "execution_count": null,
      "outputs": []
    }
  ]
}
